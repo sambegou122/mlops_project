{
 "cells": [
  {
   "cell_type": "code",
   "execution_count": 6,
   "metadata": {},
   "outputs": [],
   "source": [
    "import numpy as np\n",
    "import pandas as pd\n",
    "import matplotlib.pyplot as plt\n",
    "from sklearn.feature_extraction.text import TfidfVectorizer"
   ]
  },
  {
   "cell_type": "markdown",
   "metadata": {},
   "source": [
    "### Load data"
   ]
  },
  {
   "cell_type": "code",
   "execution_count": 7,
   "metadata": {},
   "outputs": [],
   "source": [
    "train = pd.read_csv('data/train.csv', delimiter=',')\n",
    "test = pd.read_csv('data/test.csv',  delimiter=',')\n",
    "valid = pd.read_csv('data/valid.csv',  delimiter=',')"
   ]
  },
  {
   "cell_type": "code",
   "execution_count": 8,
   "metadata": {},
   "outputs": [],
   "source": [
    "train.drop(['Unnamed: 0', \"film-url\"], axis=1, inplace=True)\n",
    "test.drop(['Unnamed: 0', \"film-url\"], axis=1, inplace=True)\n",
    "valid.drop(['Unnamed: 0', \"film-url\"], axis=1, inplace=True)"
   ]
  },
  {
   "cell_type": "markdown",
   "metadata": {},
   "source": [
    "### Preprocessing\n",
    "\n",
    "We use TF-IDF to vectorize the text data with the french stop words. We also use the n-grams to keep the context of the words. We train with the vectorizer with the training data and then we use the same vectorizer to transform the test data"
   ]
  },
  {
   "cell_type": "code",
   "execution_count": 9,
   "metadata": {},
   "outputs": [
    {
     "name": "stderr",
     "output_type": "stream",
     "text": [
      "/home/sambegou/miniconda3/envs/mlops/lib/python3.11/site-packages/sklearn/feature_extraction/text.py:408: UserWarning: Your stop_words may be inconsistent with your preprocessing. Tokenizing the stop words generated tokens ['neuf', 'qu', 'quelqu'] not in stop_words.\n",
      "  warnings.warn(\n"
     ]
    }
   ],
   "source": [
    "from spacy.lang.fr.stop_words import STOP_WORDS as fr_stop\n",
    "stop = list(fr_stop)\n",
    "vectorizer = TfidfVectorizer(stop_words=stop)\n",
    "vectorizer.fit(train['review'])\n",
    "x_train = vectorizer.transform(train['review'])\n",
    "x_test = vectorizer.transform(test['review'])\n",
    "x_valid = vectorizer.transform(valid['review'])"
   ]
  },
  {
   "cell_type": "code",
   "execution_count": 10,
   "metadata": {},
   "outputs": [
    {
     "data": {
      "text/plain": [
       "((160000, 2), (20000, 2), (20000, 2))"
      ]
     },
     "execution_count": 10,
     "metadata": {},
     "output_type": "execute_result"
    }
   ],
   "source": [
    "train.shape, test.shape, valid.shape"
   ]
  },
  {
   "cell_type": "code",
   "execution_count": 11,
   "metadata": {},
   "outputs": [
    {
     "data": {
      "text/plain": [
       "((160000, 152189), (20000, 152189), (20000, 152189))"
      ]
     },
     "execution_count": 11,
     "metadata": {},
     "output_type": "execute_result"
    }
   ],
   "source": [
    "x_train.shape, x_test.shape, x_valid.shape"
   ]
  },
  {
   "cell_type": "markdown",
   "metadata": {},
   "source": [
    "### Train model"
   ]
  },
  {
   "cell_type": "markdown",
   "metadata": {},
   "source": [
    "For the model, firstly we will use a simple logistic regression to see the performance. Then we will use a noter model like SVM or Random Forest to see if we can improve the performance."
   ]
  },
  {
   "cell_type": "code",
   "execution_count": 12,
   "metadata": {},
   "outputs": [
    {
     "name": "stderr",
     "output_type": "stream",
     "text": [
      "/home/sambegou/miniconda3/envs/mlops/lib/python3.11/site-packages/sklearn/linear_model/_logistic.py:460: ConvergenceWarning: lbfgs failed to converge (status=1):\n",
      "STOP: TOTAL NO. of ITERATIONS REACHED LIMIT.\n",
      "\n",
      "Increase the number of iterations (max_iter) or scale the data as shown in:\n",
      "    https://scikit-learn.org/stable/modules/preprocessing.html\n",
      "Please also refer to the documentation for alternative solver options:\n",
      "    https://scikit-learn.org/stable/modules/linear_model.html#logistic-regression\n",
      "  n_iter_i = _check_optimize_result(\n"
     ]
    }
   ],
   "source": [
    "from sklearn.linear_model import LogisticRegression\n",
    "from sklearn.metrics import accuracy_score, confusion_matrix, recall_score, precision_score, f1_score\n",
    "lr = LogisticRegression()\n",
    "import seaborn as sns\n",
    "lr.fit(x_train, train['polarity'])\n",
    "pred = lr.predict(x_test)"
   ]
  },
  {
   "cell_type": "code",
   "execution_count": 13,
   "metadata": {},
   "outputs": [
    {
     "name": "stdout",
     "output_type": "stream",
     "text": [
      "Accuracy:  0.92215\n",
      "Recall:  0.9301501251042535\n",
      "Precision:  0.909572841268223\n",
      "F1 Score:  0.9197464048244935\n"
     ]
    },
    {
     "data": {
      "image/png": "[encoded data removed]",
      "text/plain": [
       "<Figure size 640x480 with 2 Axes>"
      ]
     },
     "metadata": {},
     "output_type": "display_data"
    }
   ],
   "source": [
    "print(\"Accuracy: \", accuracy_score(test['polarity'], pred))\n",
    "print(\"Recall: \", recall_score(test['polarity'], pred))\n",
    "print(\"Precision: \", precision_score(test['polarity'], pred))\n",
    "print(\"F1 Score: \", f1_score(test['polarity'], pred))\n",
    "sns.heatmap(confusion_matrix(test['polarity'], pred), annot=True, fmt='g')\n",
    "plt.show()"
   ]
  },
  {
   "cell_type": "markdown",
   "metadata": {},
   "source": [
    "### Evaluate model\n",
    "This previous step show us our model is good, the accuracy is 0.92. The Recall is little greather than the precision, it means that we have most false positive than false negative as we can see in the confusion matrix. The best representation of the performance is F1-score, it is the harmonic mean of precision and recall. The F1-score is 0.92, it is a good score.s So the metric we will use to evaluate our futur model is the F1-score"
   ]
  },
  {
   "cell_type": "markdown",
   "metadata": {},
   "source": [
    "### Create a Pipeline\n",
    "\n",
    "The pipeline allow us to do all the previous steps in one time."
   ]
  },
  {
   "cell_type": "code",
   "execution_count": 14,
   "metadata": {},
   "outputs": [
    {
     "name": "stderr",
     "output_type": "stream",
     "text": [
      "/home/sambegou/miniconda3/envs/mlops/lib/python3.11/site-packages/sklearn/feature_extraction/text.py:408: UserWarning: Your stop_words may be inconsistent with your preprocessing. Tokenizing the stop words generated tokens ['neuf', 'qu', 'quelqu'] not in stop_words.\n",
      "  warnings.warn(\n",
      "/home/sambegou/miniconda3/envs/mlops/lib/python3.11/site-packages/sklearn/linear_model/_logistic.py:460: ConvergenceWarning: lbfgs failed to converge (status=1):\n",
      "STOP: TOTAL NO. of ITERATIONS REACHED LIMIT.\n",
      "\n",
      "Increase the number of iterations (max_iter) or scale the data as shown in:\n",
      "    https://scikit-learn.org/stable/modules/preprocessing.html\n",
      "Please also refer to the documentation for alternative solver options:\n",
      "    https://scikit-learn.org/stable/modules/linear_model.html#logistic-regression\n",
      "  n_iter_i = _check_optimize_result(\n"
     ]
    }
   ],
   "source": [
    "from sklearn.pipeline import Pipeline\n",
    "step = [('vectorizer', TfidfVectorizer(stop_words=stop)), ('lr', LogisticRegression())]\n",
    "pipe = Pipeline(step)\n",
    "pipe.fit(train['review'], train['polarity'])\n",
    "pred = pipe.predict(test['review'])\n"
   ]
  },
  {
   "cell_type": "code",
   "execution_count": 15,
   "metadata": {},
   "outputs": [
    {
     "name": "stdout",
     "output_type": "stream",
     "text": [
      "Accuracy:  0.92235\n",
      "Recall:  0.9302543786488741\n",
      "Precision:  0.9098603038645865\n",
      "F1 Score:  0.9199443270271663\n"
     ]
    },
    {
     "data": {
      "image/png": "[encoded data removed]",
      "text/plain": [
       "<Figure size 640x480 with 2 Axes>"
      ]
     },
     "metadata": {},
     "output_type": "display_data"
    }
   ],
   "source": [
    "print(\"Accuracy: \", accuracy_score(test['polarity'], pred))\n",
    "print(\"Recall: \", recall_score(test['polarity'], pred))\n",
    "print(\"Precision: \", precision_score(test['polarity'], pred))\n",
    "print(\"F1 Score: \", f1_score(test['polarity'], pred))\n",
    "sns.heatmap(confusion_matrix(test['polarity'], pred), annot=True, fmt='g')\n",
    "plt.show()"
   ]
  },
  {
   "cell_type": "code",
   "execution_count": 16,
   "metadata": {},
   "outputs": [
    {
     "name": "stderr",
     "output_type": "stream",
     "text": [
      "/home/sambegou/miniconda3/envs/mlops/lib/python3.11/site-packages/sklearn/feature_extraction/text.py:408: UserWarning: Your stop_words may be inconsistent with your preprocessing. Tokenizing the stop words generated tokens ['neuf', 'qu', 'quelqu'] not in stop_words.\n",
      "  warnings.warn(\n"
     ]
    },
    {
     "data": {
      "text/html": [
       "<style>#sk-container-id-1 {color: black;}#sk-container-id-1 pre{padding: 0;}#sk-container-id-1 div.sk-toggleable {background-color: white;}#sk-container-id-1 label.sk-toggleable__label {cursor: pointer;display: block;width: 100%;margin-bottom: 0;padding: 0.3em;box-sizing: border-box;text-align: center;}#sk-container-id-1 label.sk-toggleable__label-arrow:before {content: \"▸\";float: left;margin-right: 0.25em;color: #696969;}#sk-container-id-1 label.sk-toggleable__label-arrow:hover:before {color: black;}#sk-container-id-1 div.sk-estimator:hover label.sk-toggleable__label-arrow:before {color: black;}#sk-container-id-1 div.sk-toggleable__content {max-height: 0;max-width: 0;overflow: hidden;text-align: left;background-color: #f0f8ff;}#sk-container-id-1 div.sk-toggleable__content pre {margin: 0.2em;color: black;border-radius: 0.25em;background-color: #f0f8ff;}#sk-container-id-1 input.sk-toggleable__control:checked~div.sk-toggleable__content {max-height: 200px;max-width: 100%;overflow: auto;}#sk-container-id-1 input.sk-toggleable__control:checked~label.sk-toggleable__label-arrow:before {content: \"▾\";}#sk-container-id-1 div.sk-estimator input.sk-toggleable__control:checked~label.sk-toggleable__label {background-color: #d4ebff;}#sk-container-id-1 div.sk-label input.sk-toggleable__control:checked~label.sk-toggleable__label {background-color: #d4ebff;}#sk-container-id-1 input.sk-hidden--visually {border: 0;clip: rect(1px 1px 1px 1px);clip: rect(1px, 1px, 1px, 1px);height: 1px;margin: -1px;overflow: hidden;padding: 0;position: absolute;width: 1px;}#sk-container-id-1 div.sk-estimator {font-family: monospace;background-color: #f0f8ff;border: 1px dotted black;border-radius: 0.25em;box-sizing: border-box;margin-bottom: 0.5em;}#sk-container-id-1 div.sk-estimator:hover {background-color: #d4ebff;}#sk-container-id-1 div.sk-parallel-item::after {content: \"\";width: 100%;border-bottom: 1px solid gray;flex-grow: 1;}#sk-container-id-1 div.sk-label:hover label.sk-toggleable__label {background-color: #d4ebff;}#sk-container-id-1 div.sk-serial::before {content: \"\";position: absolute;border-left: 1px solid gray;box-sizing: border-box;top: 0;bottom: 0;left: 50%;z-index: 0;}#sk-container-id-1 div.sk-serial {display: flex;flex-direction: column;align-items: center;background-color: white;padding-right: 0.2em;padding-left: 0.2em;position: relative;}#sk-container-id-1 div.sk-item {position: relative;z-index: 1;}#sk-container-id-1 div.sk-parallel {display: flex;align-items: stretch;justify-content: center;background-color: white;position: relative;}#sk-container-id-1 div.sk-item::before, #sk-container-id-1 div.sk-parallel-item::before {content: \"\";position: absolute;border-left: 1px solid gray;box-sizing: border-box;top: 0;bottom: 0;left: 50%;z-index: -1;}#sk-container-id-1 div.sk-parallel-item {display: flex;flex-direction: column;z-index: 1;position: relative;background-color: white;}#sk-container-id-1 div.sk-parallel-item:first-child::after {align-self: flex-end;width: 50%;}#sk-container-id-1 div.sk-parallel-item:last-child::after {align-self: flex-start;width: 50%;}#sk-container-id-1 div.sk-parallel-item:only-child::after {width: 0;}#sk-container-id-1 div.sk-dashed-wrapped {border: 1px dashed gray;margin: 0 0.4em 0.5em 0.4em;box-sizing: border-box;padding-bottom: 0.4em;background-color: white;}#sk-container-id-1 div.sk-label label {font-family: monospace;font-weight: bold;display: inline-block;line-height: 1.2em;}#sk-container-id-1 div.sk-label-container {text-align: center;}#sk-container-id-1 div.sk-container {/* jupyter's `normalize.less` sets `[hidden] { display: none; }` but bootstrap.min.css set `[hidden] { display: none !important; }` so we also need the `!important` here to be able to override the default hidden behavior on the sphinx rendered scikit-learn.org. See: https://github.com/scikit-learn/scikit-learn/issues/21755 */display: inline-block !important;position: relative;}#sk-container-id-1 div.sk-text-repr-fallback {display: none;}</style><div id=\"sk-container-id-1\" class=\"sk-top-container\"><div class=\"sk-text-repr-fallback\"><pre>TfidfVectorizer(stop_words=[&#x27;ton&#x27;, &#x27;da&#x27;, &#x27;sien&#x27;, &#x27;leur&#x27;, &#x27;seront&#x27;, &#x27;mes&#x27;,\n",
       "                            &#x27;être&#x27;, &#x27;bas&#x27;, &#x27;désormais&#x27;, &#x27;compris&#x27;, &#x27;ceux-là&#x27;,\n",
       "                            &#x27;celle-là&#x27;, &#x27;miens&#x27;, &#x27;dont&#x27;, &#x27;vas&#x27;, &#x27;douze&#x27;, &#x27;na&#x27;,\n",
       "                            &#x27;sa&#x27;, &#x27;quoi&#x27;, &#x27;antérieures&#x27;, &#x27;nos&#x27;, &#x27;moins&#x27;,\n",
       "                            &#x27;specifique&#x27;, &#x27;vont&#x27;, &quot;d&#x27;&quot;, &#x27;avaient&#x27;, &#x27;autre&#x27;,\n",
       "                            &#x27;avec&#x27;, &#x27;ès&#x27;, &#x27;meme&#x27;, ...])</pre><b>In a Jupyter environment, please rerun this cell to show the HTML representation or trust the notebook. <br />On GitHub, the HTML representation is unable to render, please try loading this page with nbviewer.org.</b></div><div class=\"sk-container\" hidden><div class=\"sk-item\"><div class=\"sk-estimator sk-toggleable\"><input class=\"sk-toggleable__control sk-hidden--visually\" id=\"sk-estimator-id-1\" type=\"checkbox\" checked><label for=\"sk-estimator-id-1\" class=\"sk-toggleable__label sk-toggleable__label-arrow\">TfidfVectorizer</label><div class=\"sk-toggleable__content\"><pre>TfidfVectorizer(stop_words=[&#x27;ton&#x27;, &#x27;da&#x27;, &#x27;sien&#x27;, &#x27;leur&#x27;, &#x27;seront&#x27;, &#x27;mes&#x27;,\n",
       "                            &#x27;être&#x27;, &#x27;bas&#x27;, &#x27;désormais&#x27;, &#x27;compris&#x27;, &#x27;ceux-là&#x27;,\n",
       "                            &#x27;celle-là&#x27;, &#x27;miens&#x27;, &#x27;dont&#x27;, &#x27;vas&#x27;, &#x27;douze&#x27;, &#x27;na&#x27;,\n",
       "                            &#x27;sa&#x27;, &#x27;quoi&#x27;, &#x27;antérieures&#x27;, &#x27;nos&#x27;, &#x27;moins&#x27;,\n",
       "                            &#x27;specifique&#x27;, &#x27;vont&#x27;, &quot;d&#x27;&quot;, &#x27;avaient&#x27;, &#x27;autre&#x27;,\n",
       "                            &#x27;avec&#x27;, &#x27;ès&#x27;, &#x27;meme&#x27;, ...])</pre></div></div></div></div></div>"
      ],
      "text/plain": [
       "TfidfVectorizer(stop_words=['ton', 'da', 'sien', 'leur', 'seront', 'mes',\n",
       "                            'être', 'bas', 'désormais', 'compris', 'ceux-là',\n",
       "                            'celle-là', 'miens', 'dont', 'vas', 'douze', 'na',\n",
       "                            'sa', 'quoi', 'antérieures', 'nos', 'moins',\n",
       "                            'specifique', 'vont', \"d'\", 'avaient', 'autre',\n",
       "                            'avec', 'ès', 'meme', ...])"
      ]
     },
     "execution_count": 16,
     "metadata": {},
     "output_type": "execute_result"
    }
   ],
   "source": [
    "vectorizer = TfidfVectorizer(stop_words=stop)\n",
    "vectorizer.fit(train['review'])"
   ]
  },
  {
   "cell_type": "markdown",
   "metadata": {},
   "source": [
    "## Testing different models of logistic regression\n",
    "In the previous step, we have used a simple logistic regression. In this step, we will test different models of logistic regression to see if we can improve the performance. We will test the following models:\n",
    "\n",
    "- Logistic regression with L1 regularization with different values of C\n",
    "- Logistic regression with L2 regularization with different values of C\n",
    "\n",
    "The Results of best model is returned by the function `tune_model()`.\n"
   ]
  },
  {
   "cell_type": "code",
   "execution_count": 80,
   "metadata": {},
   "outputs": [],
   "source": [
    "def tune_model(X_train, y_train, X_test, y_test):\n",
    "    results = pd.DataFrame(columns=['model', 'C', 'f1_score'])\n",
    "\n",
    "    parameters = {'C': [ 0.01, 10, 100, 1000], \n",
    "                  'penalty': ['l1', 'l2']}\n",
    "\n",
    "    best_score = 0\n",
    "    best_params = None\n",
    "\n",
    "\n",
    "    for C in parameters['C']:\n",
    "        for penalty in parameters['penalty']:\n",
    "           \n",
    "            model = LogisticRegression(C=C, penalty=penalty, solver='liblinear')\n",
    "\n",
    "            model.fit(X_train, y_train)\n",
    "\n",
    "            \n",
    "            predictions = model.predict(X_test)\n",
    "            score = f1_score(y_test, predictions)\n",
    "            data  = pd.DataFrame(data = {'model': penalty, 'C':  C, 'f1_score': score}, index=[0])\n",
    "            results = pd.concat( [results, data], ignore_index=True)\n",
    "            \n",
    "            if score > best_score:\n",
    "                best_score = score\n",
    "                best_params = {'C': C, 'penalty': penalty}\n",
    "\n",
    "    # show best parameters\n",
    "    print(\"Best parameters: \", best_params)\n",
    "\n",
    "    # return best model\n",
    "    return LogisticRegression(**best_params), results"
   ]
  },
  {
   "cell_type": "code",
   "execution_count": 71,
   "metadata": {},
   "outputs": [],
   "source": [
    "X_train = vectorizer.transform(train['review'])\n",
    "y_train = train['polarity']\n",
    "X_test = vectorizer.transform(test['review'])\n",
    "y_test = test['polarity']"
   ]
  },
  {
   "cell_type": "code",
   "execution_count": 81,
   "metadata": {},
   "outputs": [
    {
     "name": "stderr",
     "output_type": "stream",
     "text": [
      "/tmp/ipykernel_16374/373189690.py:22: FutureWarning: The behavior of DataFrame concatenation with empty or all-NA entries is deprecated. In a future version, this will no longer exclude empty or all-NA columns when determining the result dtypes. To retain the old behavior, exclude the relevant entries before the concat operation.\n",
      "  results = pd.concat( [results, data], ignore_index=True)\n"
     ]
    },
    {
     "name": "stdout",
     "output_type": "stream",
     "text": [
      "Best parameters:  {'C': 10, 'penalty': 'l2'}\n"
     ]
    }
   ],
   "source": [
    "best_log,resultat = tune_model(X_train, y_train, X_test, y_test)"
   ]
  },
  {
   "cell_type": "code",
   "execution_count": 82,
   "metadata": {},
   "outputs": [
    {
     "data": {
      "text/html": [
       "<div>\n",
       "<style scoped>\n",
       "    .dataframe tbody tr th:only-of-type {\n",
       "        vertical-align: middle;\n",
       "    }\n",
       "\n",
       "    .dataframe tbody tr th {\n",
       "        vertical-align: top;\n",
       "    }\n",
       "\n",
       "    .dataframe thead th {\n",
       "        text-align: right;\n",
       "    }\n",
       "</style>\n",
       "<table border=\"1\" class=\"dataframe\">\n",
       "  <thead>\n",
       "    <tr style=\"text-align: right;\">\n",
       "      <th></th>\n",
       "      <th>model</th>\n",
       "      <th>C</th>\n",
       "      <th>f1_score</th>\n",
       "    </tr>\n",
       "  </thead>\n",
       "  <tbody>\n",
       "    <tr>\n",
       "      <th>0</th>\n",
       "      <td>l1</td>\n",
       "      <td>0.01</td>\n",
       "      <td>0.774806</td>\n",
       "    </tr>\n",
       "    <tr>\n",
       "      <th>1</th>\n",
       "      <td>l2</td>\n",
       "      <td>0.01</td>\n",
       "      <td>0.881872</td>\n",
       "    </tr>\n",
       "    <tr>\n",
       "      <th>2</th>\n",
       "      <td>l1</td>\n",
       "      <td>10.00</td>\n",
       "      <td>0.907742</td>\n",
       "    </tr>\n",
       "    <tr>\n",
       "      <th>3</th>\n",
       "      <td>l2</td>\n",
       "      <td>10.00</td>\n",
       "      <td>0.917271</td>\n",
       "    </tr>\n",
       "    <tr>\n",
       "      <th>4</th>\n",
       "      <td>l1</td>\n",
       "      <td>100.00</td>\n",
       "      <td>0.872005</td>\n",
       "    </tr>\n",
       "    <tr>\n",
       "      <th>5</th>\n",
       "      <td>l2</td>\n",
       "      <td>100.00</td>\n",
       "      <td>0.899046</td>\n",
       "    </tr>\n",
       "    <tr>\n",
       "      <th>6</th>\n",
       "      <td>l1</td>\n",
       "      <td>1000.00</td>\n",
       "      <td>0.841618</td>\n",
       "    </tr>\n",
       "    <tr>\n",
       "      <th>7</th>\n",
       "      <td>l2</td>\n",
       "      <td>1000.00</td>\n",
       "      <td>0.876603</td>\n",
       "    </tr>\n",
       "  </tbody>\n",
       "</table>\n",
       "</div>"
      ],
      "text/plain": [
       "  model        C  f1_score\n",
       "0    l1     0.01  0.774806\n",
       "1    l2     0.01  0.881872\n",
       "2    l1    10.00  0.907742\n",
       "3    l2    10.00  0.917271\n",
       "4    l1   100.00  0.872005\n",
       "5    l2   100.00  0.899046\n",
       "6    l1  1000.00  0.841618\n",
       "7    l2  1000.00  0.876603"
      ]
     },
     "execution_count": 82,
     "metadata": {},
     "output_type": "execute_result"
    }
   ],
   "source": [
    "resultat"
   ]
  },
  {
   "cell_type": "code",
   "execution_count": 74,
   "metadata": {},
   "outputs": [
    {
     "name": "stdout",
     "output_type": "stream",
     "text": [
      "the best model : LogisticRegression(C=10)\n"
     ]
    }
   ],
   "source": [
    "print(f\"the best model : {best_log}\")"
   ]
  },
  {
   "cell_type": "markdown",
   "metadata": {},
   "source": [
    "As we can see in the table below, the best model is the logistic regression with L2 regularization with C=10"
   ]
  },
  {
   "cell_type": "markdown",
   "metadata": {},
   "source": [
    "## Testing different other models\n",
    "In this step, we will test the svm and the MLP. And we will compare the performance of these models with the logistic regression."
   ]
  },
  {
   "cell_type": "code",
   "execution_count": 84,
   "metadata": {},
   "outputs": [],
   "source": [
    "from sklearn.svm import SVC\n",
    "from sklearn.neural_network import MLPClassifier\n",
    "\n",
    "def test_model(x_train, y_train, x_test, y_test):\n",
    "    results = pd.DataFrame(columns=['model', 'params', 'f1_score'])\n",
    "    algorithms = {\n",
    "        'SVC': {\n",
    "            'model': SVC,\n",
    "            'params': {'C': [0.1, 1, 10]}\n",
    "        },\n",
    "        'MLP': {\n",
    "            'model': MLPClassifier,\n",
    "            'params': {'hidden_layer_sizes': [(10,), (50,), (100,)]}\n",
    "        }\n",
    "    }\n",
    "\n",
    "    best_score = 0\n",
    "    best_algo = None\n",
    "    best_params = None\n",
    "\n",
    "\n",
    "    for algo_name, algo in algorithms.items():\n",
    "       \n",
    "        for param_name, param_values in algo['params'].items():\n",
    "            for param_value in param_values:\n",
    "               \n",
    "                model = algo['model'](**{param_name: param_value})\n",
    "  \n",
    "                model.fit(x_train, y_train)\n",
    "\n",
    "               \n",
    "                predictions = model.predict(x_test)\n",
    "                score = f1_score(y_test, predictions)\n",
    "                data  = pd.DataFrame({'model': str(model), 'params': param_values, 'f1_score': score}, index=[0])\n",
    "                results = pd.concat([results, data], ignore_index=True)\n",
    "                if score > best_score:\n",
    "                    best_score = score\n",
    "                    best_algo = algo_name\n",
    "                    best_params = {param_name: param_value}\n",
    "\n",
    "    print(\"Best algorithm: \", best_algo)\n",
    "    print(\"Best parameters: \", best_params)\n",
    "\n",
    "    \n",
    "    return algorithms[best_algo]['model'](**best_params), results"
   ]
  },
  {
   "cell_type": "code",
   "execution_count": 85,
   "metadata": {},
   "outputs": [],
   "source": [
    "# test_model(X_train, y_train, X_test, y_test)"
   ]
  },
  {
   "cell_type": "code",
   "execution_count": null,
   "metadata": {},
   "outputs": [],
   "source": []
  },
  {
   "cell_type": "code",
   "execution_count": null,
   "metadata": {},
   "outputs": [],
   "source": []
  },
  {
   "cell_type": "code",
   "execution_count": null,
   "metadata": {},
   "outputs": [],
   "source": []
  },
  {
   "cell_type": "code",
   "execution_count": null,
   "metadata": {},
   "outputs": [],
   "source": []
  }
 ],
 "metadata": {
  "kernelspec": {
   "display_name": "mlops",
   "language": "python",
   "name": "python3"
  },
  "language_info": {
   "codemirror_mode": {
    "name": "ipython",
    "version": 3
   },
   "file_extension": ".py",
   "mimetype": "text/x-python",
   "name": "python",
   "nbconvert_exporter": "python",
   "pygments_lexer": "ipython3",
   "version": "3.11.5"
  }
 },
 "nbformat": 4,
 "nbformat_minor": 2
}
