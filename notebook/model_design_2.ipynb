{
 "cells": [
  {
   "cell_type": "code",
   "execution_count": 5,
   "metadata": {},
   "outputs": [],
   "source": [
    "import numpy as np\n",
    "import pandas as pd\n",
    "import matplotlib.pyplot as plt"
   ]
  },
  {
   "cell_type": "markdown",
   "metadata": {},
   "source": [
    "## Load data"
   ]
  },
  {
   "cell_type": "code",
   "execution_count": 6,
   "metadata": {},
   "outputs": [],
   "source": [
    "train = pd.read_csv('data/train.csv', delimiter=',')\n",
    "test = pd.read_csv('data/test.csv',  delimiter=',')\n",
    "valid = pd.read_csv('data/valid.csv',  delimiter=',')"
   ]
  },
  {
   "cell_type": "code",
   "execution_count": 7,
   "metadata": {},
   "outputs": [],
   "source": [
    "train.drop(['Unnamed: 0', \"film-url\"], axis=1, inplace=True)\n",
    "test.drop(['Unnamed: 0', \"film-url\"], axis=1, inplace=True)\n",
    "valid.drop(['Unnamed: 0', \"film-url\"], axis=1, inplace=True)"
   ]
  },
  {
   "cell_type": "code",
   "execution_count": 8,
   "metadata": {},
   "outputs": [
    {
     "data": {
      "text/html": [
       "<div>\n",
       "<style scoped>\n",
       "    .dataframe tbody tr th:only-of-type {\n",
       "        vertical-align: middle;\n",
       "    }\n",
       "\n",
       "    .dataframe tbody tr th {\n",
       "        vertical-align: top;\n",
       "    }\n",
       "\n",
       "    .dataframe thead th {\n",
       "        text-align: right;\n",
       "    }\n",
       "</style>\n",
       "<table border=\"1\" class=\"dataframe\">\n",
       "  <thead>\n",
       "    <tr style=\"text-align: right;\">\n",
       "      <th></th>\n",
       "      <th>review</th>\n",
       "      <th>polarity</th>\n",
       "    </tr>\n",
       "  </thead>\n",
       "  <tbody>\n",
       "    <tr>\n",
       "      <th>0</th>\n",
       "      <td>Si vous cherchez du cinéma abrutissant à tous ...</td>\n",
       "      <td>0</td>\n",
       "    </tr>\n",
       "    <tr>\n",
       "      <th>1</th>\n",
       "      <td>Trash, re-trash et re-re-trash...! Une horreur...</td>\n",
       "      <td>0</td>\n",
       "    </tr>\n",
       "    <tr>\n",
       "      <th>2</th>\n",
       "      <td>Et si, dans les 5 premières minutes du film, l...</td>\n",
       "      <td>0</td>\n",
       "    </tr>\n",
       "    <tr>\n",
       "      <th>3</th>\n",
       "      <td>Mon dieu ! Quelle métaphore filée ! Je suis ab...</td>\n",
       "      <td>0</td>\n",
       "    </tr>\n",
       "    <tr>\n",
       "      <th>4</th>\n",
       "      <td>Premier film de la saga Kozure Okami, \"Le Sabr...</td>\n",
       "      <td>1</td>\n",
       "    </tr>\n",
       "  </tbody>\n",
       "</table>\n",
       "</div>"
      ],
      "text/plain": [
       "                                              review  polarity\n",
       "0  Si vous cherchez du cinéma abrutissant à tous ...         0\n",
       "1  Trash, re-trash et re-re-trash...! Une horreur...         0\n",
       "2  Et si, dans les 5 premières minutes du film, l...         0\n",
       "3  Mon dieu ! Quelle métaphore filée ! Je suis ab...         0\n",
       "4  Premier film de la saga Kozure Okami, \"Le Sabr...         1"
      ]
     },
     "execution_count": 8,
     "metadata": {},
     "output_type": "execute_result"
    }
   ],
   "source": [
    "train.head()"
   ]
  },
  {
   "cell_type": "code",
   "execution_count": 9,
   "metadata": {},
   "outputs": [
    {
     "name": "stderr",
     "output_type": "stream",
     "text": [
      "/home/sambegou/miniconda3/envs/mlops/lib/python3.11/site-packages/sklearn/feature_extraction/text.py:408: UserWarning: Your stop_words may be inconsistent with your preprocessing. Tokenizing the stop words generated tokens ['neuf', 'qu', 'quelqu'] not in stop_words.\n",
      "  warnings.warn(\n",
      "/home/sambegou/miniconda3/envs/mlops/lib/python3.11/site-packages/sklearn/linear_model/_logistic.py:460: ConvergenceWarning: lbfgs failed to converge (status=1):\n",
      "STOP: TOTAL NO. of ITERATIONS REACHED LIMIT.\n",
      "\n",
      "Increase the number of iterations (max_iter) or scale the data as shown in:\n",
      "    https://scikit-learn.org/stable/modules/preprocessing.html\n",
      "Please also refer to the documentation for alternative solver options:\n",
      "    https://scikit-learn.org/stable/modules/linear_model.html#logistic-regression\n",
      "  n_iter_i = _check_optimize_result(\n",
      "2023/11/14 16:17:13 WARNING mlflow.utils.autologging_utils: MLflow autologging encountered a warning: \"/home/sambegou/miniconda3/envs/mlops/lib/python3.11/site-packages/_distutils_hack/__init__.py:33: UserWarning: Setuptools is replacing distutils.\"\n",
      "Successfully registered model 'logistic-regression'.\n",
      "2023/11/14 16:17:18 INFO mlflow.store.model_registry.abstract_store: Waiting up to 300 seconds for model version to finish creation. Model name: logistic-regression, version 1\n",
      "Created version '1' of model 'logistic-regression'.\n"
     ]
    }
   ],
   "source": [
    "import mlflow\n",
    "from mlflow import sklearn\n",
    "\n",
    "mlflow.set_tracking_uri('http://localhost:5000')\n",
    "mlflow.set_experiment('Sentiment Analysis')\n",
    "mlflow.sklearn.autolog(log_datasets=False)\n",
    "from mlflow.models import infer_signature\n",
    "\n",
    "with mlflow.start_run():\n",
    "    from sklearn.linear_model import LogisticRegression\n",
    "    from spacy.lang.fr.stop_words import STOP_WORDS as fr_stop\n",
    "    from sklearn.pipeline import Pipeline\n",
    "    from sklearn.feature_extraction.text import TfidfVectorizer\n",
    "    from sklearn.metrics import accuracy_score, f1_score\n",
    "    stop = list(fr_stop)\n",
    "    vectorizer = TfidfVectorizer(stop_words=stop)\n",
    "    step = [('vectorizer', TfidfVectorizer(stop_words=stop)), ('lr', LogisticRegression())]\n",
    "    pipe = Pipeline(step)\n",
    "    X_train = train['review']\n",
    "    y_train = train['polarity']\n",
    "    X_valid = valid['review']\n",
    "    y_valid = valid['polarity']\n",
    "\n",
    "    tags ={\"model\": \"logistic regression\", \n",
    "           \"version\": \"0.1.0\",\"mlflow.source.git\": \"commit\", \n",
    "           \"mlflow.source.name\": \"model_design_2.ipynb\",\n",
    "           \"mlflow.source.git.commit\": \"a0d889471c217fb26529ef0df970a5cefee4434d\",\n",
    "           \"mlflow.source.dataname\": \"data/train.csv\"}\n",
    "\n",
    "    pipe.fit(X_train, y_train)\n",
    "    pred = pipe.predict(X_valid)\n",
    "\n",
    "    signature = infer_signature(X_valid, pred)\n",
    "\n",
    "    accuracy = accuracy_score(y_valid, pred)\n",
    "    f1 = f1_score(y_valid, pred)\n",
    "\n",
    "    mlflow.log_metric('validation accuracy', accuracy)\n",
    "    mlflow.log_metric('validation f1  ', f1)\n",
    "    mlflow.set_tags(tags)\n",
    "\n",
    "\n",
    "    mlflow.sklearn.log_model(\n",
    "        sk_model=pipe,\n",
    "        artifact_path=\"sklearn-model\",\n",
    "        signature=signature,\n",
    "        registered_model_name=\"logistic-regression\",\n",
    "    )\n",
    "\n",
    "\n"
   ]
  },
  {
   "cell_type": "code",
   "execution_count": null,
   "metadata": {},
   "outputs": [],
   "source": []
  }
 ],
 "metadata": {
  "kernelspec": {
   "display_name": "Python 3",
   "language": "python",
   "name": "python3"
  },
  "language_info": {
   "codemirror_mode": {
    "name": "ipython",
    "version": 3
   },
   "file_extension": ".py",
   "mimetype": "text/x-python",
   "name": "python",
   "nbconvert_exporter": "python",
   "pygments_lexer": "ipython3",
   "version": "3.11.5"
  }
 },
 "nbformat": 4,
 "nbformat_minor": 2
}
